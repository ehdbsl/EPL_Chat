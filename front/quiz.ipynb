{
 "cells": [
  {
   "cell_type": "code",
   "execution_count": 2,
   "metadata": {},
   "outputs": [
    {
     "name": "stdout",
     "output_type": "stream",
     "text": [
      "Collecting openpyxl\n",
      "  Downloading openpyxl-3.1.5-py2.py3-none-any.whl.metadata (2.5 kB)\n",
      "Collecting et-xmlfile (from openpyxl)\n",
      "  Using cached et_xmlfile-1.1.0-py3-none-any.whl.metadata (1.8 kB)\n",
      "Downloading openpyxl-3.1.5-py2.py3-none-any.whl (250 kB)\n",
      "\u001b[2K   \u001b[90m━━━━━━━━━━━━━━━━━━━━━━━━━━━━━━━━━━━━━━━━\u001b[0m \u001b[32m250.9/250.9 kB\u001b[0m \u001b[31m5.6 MB/s\u001b[0m eta \u001b[36m0:00:00\u001b[0m00:01\u001b[0m\n",
      "\u001b[?25hUsing cached et_xmlfile-1.1.0-py3-none-any.whl (4.7 kB)\n",
      "Installing collected packages: et-xmlfile, openpyxl\n",
      "Successfully installed et-xmlfile-1.1.0 openpyxl-3.1.5\n"
     ]
    }
   ],
   "source": [
    "!pip install openpyxl"
   ]
  },
  {
   "cell_type": "code",
   "execution_count": 5,
   "metadata": {},
   "outputs": [
    {
     "name": "stdout",
     "output_type": "stream",
     "text": [
      "Column names changed and file saved as EPL_quiz_modified.xlsx\n"
     ]
    }
   ],
   "source": [
    "import pandas as pd\n",
    "\n",
    "# Load the Excel file\n",
    "file_path = 'EPL_quiz.xlsx'\n",
    "excel_data = pd.ExcelFile(file_path)\n",
    "\n",
    "# Create a writer object to save the modified Excel file\n",
    "with pd.ExcelWriter('EPL_quiz_modified.xlsx') as writer:\n",
    "    for sheet_name in excel_data.sheet_names:\n",
    "        # Load the sheet into a DataFrame\n",
    "        df = pd.read_excel(file_path, sheet_name=sheet_name)\n",
    "        \n",
    "        # Rename the columns\n",
    "        if '정답' in df.columns and '오답' in df.columns:\n",
    "            df = df.rename(columns={'정답': 'Correct', '오답': 'Wrong'})\n",
    "        \n",
    "        # Save the modified DataFrame back to the writer\n",
    "        df.to_excel(writer, sheet_name=sheet_name, index=False)\n",
    "\n",
    "print(\"Column names changed and file saved as EPL_quiz_modified.xlsx\")\n"
   ]
  },
  {
   "cell_type": "code",
   "execution_count": 6,
   "metadata": {},
   "outputs": [
    {
     "data": {
      "text/plain": [
       "'EPL_quiz.json'"
      ]
     },
     "execution_count": 6,
     "metadata": {},
     "output_type": "execute_result"
    }
   ],
   "source": [
    "import pandas as pd\n",
    "\n",
    "# Excel 파일 로드\n",
    "excel_path = 'EPL_quiz.xlsx'\n",
    "excel_data = pd.ExcelFile(excel_path)\n",
    "\n",
    "# 각 시트를 파싱하고 딕셔너리로 변환\n",
    "quiz_data = {}\n",
    "for sheet_name in excel_data.sheet_names:\n",
    "    sheet_data = pd.read_excel(excel_path, sheet_name=sheet_name)\n",
    "    questions = sheet_data.to_dict(orient='records')\n",
    "    quiz_data[sheet_name] = questions\n",
    "\n",
    "# 퀴즈 데이터를 JSON으로 저장\n",
    "import json\n",
    "quiz_json_path = 'EPL_quiz.json'\n",
    "with open(quiz_json_path, 'w') as f:\n",
    "    json.dump(quiz_data, f)\n",
    "\n",
    "quiz_json_path\n"
   ]
  },
  {
   "cell_type": "code",
   "execution_count": null,
   "metadata": {},
   "outputs": [],
   "source": []
  }
 ],
 "metadata": {
  "kernelspec": {
   "display_name": "base",
   "language": "python",
   "name": "python3"
  },
  "language_info": {
   "codemirror_mode": {
    "name": "ipython",
    "version": 3
   },
   "file_extension": ".py",
   "mimetype": "text/x-python",
   "name": "python",
   "nbconvert_exporter": "python",
   "pygments_lexer": "ipython3",
   "version": "3.10.14"
  }
 },
 "nbformat": 4,
 "nbformat_minor": 2
}
